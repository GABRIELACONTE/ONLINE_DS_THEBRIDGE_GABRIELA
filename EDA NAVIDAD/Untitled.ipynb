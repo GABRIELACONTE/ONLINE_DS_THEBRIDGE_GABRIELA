{
 "cells": [
  {
   "cell_type": "markdown",
   "id": "877f4d7f-4968-43d5-a594-3906b89e4f7c",
   "metadata": {},
   "source": [
    "### TEMA PROYECT BREAK\n"
   ]
  },
  {
   "cell_type": "markdown",
   "id": "3d62e0f3-ebc6-4b34-8e16-b2f1028dbd86",
   "metadata": {},
   "source": [
    "# *Análisis de Factores que Influyen en el Precio de Relojes de Lujo*  \n",
    "\n",
    "## *Dataset seleccionado*  \n",
    "Para este análisis, utilizaremos el siguiente dataset de Kaggle:  \n",
    "🔗 [Luxury Watches Price Dataset](https://www.kaggle.com/datasets/rkiattisak/luxury-watches-price-dataset)  \n",
    "\n",
    "Este dataset contiene información sobre diversas marcas de relojes de lujo, incluyendo características técnicas y precios.  \n",
    "\n",
    "## *Planteamiento de negocio*  \n",
    "El objetivo principal de este estudio es analizar los factores que afectan el precio de los relojes de lujo. Identificaremos qué variables tienen mayor impacto en el precio final y exploraremos patrones de segmentación en el mercado.  \n",
    "\n",
    "Para ello, vamos a realizar el siguiente esquema de análisis:  \n",
    "\n",
    "## *1️⃣ Análisis exploratorio de datos (EDA)*  \n",
    "- *Variables categóricas*: Analizaremos la distribución de categorías como:\n",
    "  - Marca  \n",
    "  - Modelo  \n",
    "  - Tipo de movimiento (automático, cuarzo, etc.)  \n",
    "- *Variables numéricas*: Evaluaremos estadísticas descriptivas de:\n",
    "  - Precio  \n",
    "  - Diámetro de la caja  \n",
    "  - Resistencia al agua  \n",
    "\n",
    "## *2️⃣ Análisis de correlación*  \n",
    "- Calcularemos la *matriz de correlación* para identificar relaciones entre variables numéricas, por ejemplo, si el diámetro de la caja tiene una relación significativa con el precio.  \n",
    "\n",
    "## *3️⃣ Definición del objetivo (target)*  \n",
    "- La variable objetivo a predecir será *el precio del reloj*.  \n",
    "\n",
    "## *4️⃣ Preparación de datos*  \n",
    "- *Manejo de valores nulos*: Imputación o eliminación de datos faltantes.  \n",
    "- *Codificación de variables categóricas*: Aplicaremos técnicas como One-Hot Encoding.  \n",
    "- *Escalado de variables*: Normalización de las variables numéricas para uniformizar escalas.  \n",
    "\n",
    "## *5️⃣ Análisis de Componentes Principales (PCA)*  \n",
    "- Aplicaremos *PCA* para reducir la dimensionalidad y analizar qué componentes principales explican la mayor variabilidad en los datos.  \n",
    "\n",
    "## *6️⃣ Modelado predictivo*  \n",
    "- *Selección de modelos*:  \n",
    "  - Regresión Lineal  \n",
    "  - Árboles de Decisión  \n",
    "  - Random Forest  \n",
    "- *Evaluación de modelos*:  \n",
    "  - *Métricas*: RMSE y R² para medir el desempeño de los modelos.  \n",
    "\n",
    "## *7️⃣ Validación y ajuste*  \n",
    "- Realizaremos *validación cruzada* y ajuste de hiperparámetros para mejorar el rendimiento del modelo seleccionado.  \n",
    "\n",
    "## *8️⃣ Interpretación de resultados*  \n",
    "- Analizaremos la importancia de las variables y proporcionaremos recomendaciones estratégicas basadas en los hallazgos.  \n",
    "\n",
    "Este enfoque nos permitirá comprender mejor el mercado de relojes de lujo y los factores que influyen en su valoración."
   ]
  },
  {
   "cell_type": "code",
   "execution_count": null,
   "id": "1b08e992-9731-4965-bab6-ece46fe5b9ba",
   "metadata": {},
   "outputs": [],
   "source": []
  },
  {
   "cell_type": "code",
   "execution_count": null,
   "id": "1c7b19a1-aa58-4699-ae71-dae5e8b3ba1b",
   "metadata": {},
   "outputs": [],
   "source": []
  },
  {
   "cell_type": "code",
   "execution_count": null,
   "id": "72d4e37b-974e-4c4f-84b6-0cc084138023",
   "metadata": {},
   "outputs": [],
   "source": []
  },
  {
   "cell_type": "code",
   "execution_count": null,
   "id": "041e8c85-e4d1-4579-a688-feed83db69d1",
   "metadata": {},
   "outputs": [],
   "source": []
  }
 ],
 "metadata": {
  "kernelspec": {
   "display_name": "Python 3 (ipykernel)",
   "language": "python",
   "name": "python3"
  },
  "language_info": {
   "codemirror_mode": {
    "name": "ipython",
    "version": 3
   },
   "file_extension": ".py",
   "mimetype": "text/x-python",
   "name": "python",
   "nbconvert_exporter": "python",
   "pygments_lexer": "ipython3",
   "version": "3.12.5"
  }
 },
 "nbformat": 4,
 "nbformat_minor": 5
}
