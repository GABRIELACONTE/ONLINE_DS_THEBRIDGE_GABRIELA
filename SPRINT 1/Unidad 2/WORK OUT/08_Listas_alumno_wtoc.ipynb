{
 "cells": [
  {
   "cell_type": "markdown",
   "metadata": {},
   "source": [
    "<img src = \"./img/TheBridge_logo_RGB_color.jpg\" width = 500>\n",
    "<img src = \"./img/python.jpg\" width = 500>"
   ]
  },
  {
   "cell_type": "markdown",
   "metadata": {},
   "source": [
    "# Python Basics I"
   ]
  },
  {
   "cell_type": "markdown",
   "metadata": {},
   "source": [
    "## Contenidos"
   ]
  },
  {
   "cell_type": "markdown",
   "metadata": {},
   "source": [
    "* [Listas](#Listas)\n",
    "\n",
    "* [Métodos en Listas](#Metodos-en-Listas)\n",
    "\n"
   ]
  },
  {
   "cell_type": "markdown",
   "metadata": {},
   "source": [
    "## Listas\n",
    "[al indice](#Contenidos)  \n",
    "\n",
    "Se trata de otro de los tipos de datos de Python más usados. Dentro de las colecciones, que veremos más adelante, la lista es la colección que normalmente se le da más uso. **Nos permiten almacenar conjuntos de variables u objetos**, y son elementos de lo más versátiles puesto que podemos almacenar objetos de distintos tipos, modificarlos, eliminarlos, meter listas dentro de listas... Sus dos caractrísticas principales son:\n",
    "* **Mutables**: una vez se ha creado la lista, se puede modificar\n",
    "* **Ordenada**: Los elementos tienen un cierto orden, lo que nos permite acceder al elemento que queramos teniendo en cuenta tal orden\n",
    "\n",
    "En cuanto a su sintaxis, cuando declaremos la lista simplemente hay que separar cada elemento con comas, y rodearlo todo con corchetes."
   ]
  },
  {
   "cell_type": "code",
   "execution_count": 1,
   "metadata": {},
   "outputs": [
    {
     "name": "stdout",
     "output_type": "stream",
     "text": [
      "[1, 3, 5, 6]\n",
      "<class 'list'>\n"
     ]
    }
   ],
   "source": [
    "#lista de numeros\n",
    "numeros=[1,3,5,6]\n",
    "print(numeros)\n",
    "print(type(numeros))"
   ]
  },
  {
   "cell_type": "code",
   "execution_count": 4,
   "metadata": {},
   "outputs": [
    {
     "name": "stdout",
     "output_type": "stream",
     "text": [
      "['esto', 'es', 'una', 'lista']\n",
      "[True, False, True, False]\n"
     ]
    }
   ],
   "source": [
    "#lista de strings\n",
    "strings=[\"esto\", \"es\", \"una\", \"lista\"]\n",
    "print(strings)\n",
    "#lista de booleanos\n",
    "booleanos=[True,False,True,False]\n",
    "print(booleanos)"
   ]
  },
  {
   "cell_type": "code",
   "execution_count": 8,
   "metadata": {},
   "outputs": [
    {
     "name": "stdout",
     "output_type": "stream",
     "text": [
      "<class 'list'>\n",
      "['gola', 12, '23', [23, True, False]]\n"
     ]
    }
   ],
   "source": [
    "#una lista de tipos mezclados\n",
    "mix=[\"esto es \",12, -3.25, True, False]\n",
    "print(type(mix))\n",
    "\n",
    "#lista dentro de listas\n",
    "listas=[\"gola\",12,\"23\",[23,True,False]]\n",
    "print(listas)\n"
   ]
  },
  {
   "cell_type": "code",
   "execution_count": 9,
   "metadata": {},
   "outputs": [
    {
     "data": {
      "text/plain": [
       "4"
      ]
     },
     "execution_count": 9,
     "metadata": {},
     "output_type": "execute_result"
    }
   ],
   "source": [
    "len(listas)\n"
   ]
  },
  {
   "cell_type": "code",
   "execution_count": 10,
   "metadata": {},
   "outputs": [
    {
     "data": {
      "text/plain": [
       "5"
      ]
     },
     "execution_count": 10,
     "metadata": {},
     "output_type": "execute_result"
    }
   ],
   "source": [
    "len(mix)"
   ]
  },
  {
   "cell_type": "code",
   "execution_count": 11,
   "metadata": {},
   "outputs": [
    {
     "name": "stdout",
     "output_type": "stream",
     "text": [
      "['esto es ', 12, -3.25, True, False, 'gola', 12, '23', [23, True, False]]\n",
      "<class 'list'>\n"
     ]
    }
   ],
   "source": [
    "concatenacion=mix+listas\n",
    "print(concatenacion)\n",
    "print(type(concatenacion))"
   ]
  },
  {
   "cell_type": "markdown",
   "metadata": {},
   "source": [
    "**NOTA**: ¿Ves por qué los decimales en Python siempre van con puntos y no con comas? Con las colecciones el intérprete de Python se volvería loco.\n",
    "\n",
    "Podemos ver tambien el tipo de la lista"
   ]
  },
  {
   "cell_type": "code",
   "execution_count": 12,
   "metadata": {},
   "outputs": [
    {
     "data": {
      "text/plain": [
       "list"
      ]
     },
     "execution_count": 12,
     "metadata": {},
     "output_type": "execute_result"
    }
   ],
   "source": [
    "type(mix)\n"
   ]
  },
  {
   "cell_type": "markdown",
   "metadata": {},
   "source": [
    "Calcular la longitud de la misma mediante el método *built-in* ya visto: `len()`"
   ]
  },
  {
   "cell_type": "code",
   "execution_count": 13,
   "metadata": {},
   "outputs": [
    {
     "data": {
      "text/plain": [
       "4"
      ]
     },
     "execution_count": 13,
     "metadata": {},
     "output_type": "execute_result"
    }
   ],
   "source": [
    "len(listas)"
   ]
  },
  {
   "cell_type": "markdown",
   "metadata": {},
   "source": [
    "Accedemos a los elemenos de la lista mediante corchetes `[]`\n",
    "\n",
    "**Importante**. El primer elemento es el 0"
   ]
  },
  {
   "cell_type": "code",
   "execution_count": 18,
   "metadata": {},
   "outputs": [
    {
     "name": "stdout",
     "output_type": "stream",
     "text": [
      "esto\n",
      "es\n"
     ]
    }
   ],
   "source": [
    "lista_ejemplo=[\"esto\",2,3,\"es\"]\n",
    "print(lista_ejemplo[0])\n",
    "print(lista_ejemplo[0-1])"
   ]
  },
  {
   "cell_type": "markdown",
   "metadata": {},
   "source": [
    "### Metodos en Listas  \n",
    "[al índice](#Contenidos)  \n",
    "\n",
    "Para el tipo de objeto lista, también hay una serie de métodos catacterísticos que nos permiten operar con ellas: añadir valores, quitarlos, indexado, filtrado, etc... En [este enlace](https://www.w3schools.com/python/python_ref_list.asp) puedes encontrar todos los métodos que podrás usar con listas."
   ]
  },
  {
   "cell_type": "code",
   "execution_count": 29,
   "metadata": {},
   "outputs": [
    {
     "name": "stdout",
     "output_type": "stream",
     "text": [
      "['fisica', 'quimica', 'literatura', 'filosofia']\n",
      "['fisica', 'matematicas', 'quimica', 'literatura', 'filosofia']\n",
      "['fisica', 'quimica', 'literatura', 'filosofia']\n",
      "['fisica', 'quimica', 'literatura']\n",
      "['fisica', 'literatura', 'quimica']\n"
     ]
    }
   ],
   "source": [
    "asignaturas=[\"fisica\",\"quimica\",\"literatura\"]\n",
    "#añadir elemento\n",
    "asignaturas.append(\"filosofia\")\n",
    "print(asignaturas)\n",
    "\n",
    "\n",
    "#añadir elementos en un sitio determinada \n",
    "asignaturas.insert(1,\"matematicas\")\n",
    "print(asignaturas)\n",
    "\n",
    "#quitar elementos\n",
    "#asignaturas.clear()\n",
    "#print(asignaturas)\n",
    "\n",
    "#quitar un elemento a partir de su posicion\n",
    "\n",
    "asignaturas.pop(1)\n",
    "print(asignaturas)\n",
    "\n",
    "#quitar un elemnto por valor\n",
    "asignaturas.remove(\"filosofia\")\n",
    "print(asignaturas)\n",
    "\n",
    "#ordenar la lista\n",
    "asignaturas.sort()\n",
    "print(asignaturas)"
   ]
  },
  {
   "cell_type": "code",
   "execution_count": null,
   "metadata": {},
   "outputs": [],
   "source": []
  },
  {
   "cell_type": "code",
   "execution_count": null,
   "metadata": {},
   "outputs": [],
   "source": []
  }
 ],
 "metadata": {
  "kernelspec": {
   "display_name": "Python 3 (ipykernel)",
   "language": "python",
   "name": "python3"
  },
  "language_info": {
   "codemirror_mode": {
    "name": "ipython",
    "version": 3
   },
   "file_extension": ".py",
   "mimetype": "text/x-python",
   "name": "python",
   "nbconvert_exporter": "python",
   "pygments_lexer": "ipython3",
   "version": "3.8.10"
  }
 },
 "nbformat": 4,
 "nbformat_minor": 4
}
